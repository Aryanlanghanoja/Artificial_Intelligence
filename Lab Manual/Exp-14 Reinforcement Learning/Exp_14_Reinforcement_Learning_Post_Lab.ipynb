{
  "nbformat": 4,
  "nbformat_minor": 0,
  "metadata": {
    "colab": {
      "provenance": []
    },
    "kernelspec": {
      "name": "python3",
      "display_name": "Python 3"
    },
    "language_info": {
      "name": "python"
    }
  },
  "cells": [
    {
      "cell_type": "code",
      "execution_count": null,
      "metadata": {
        "id": "gxkOs37GuMn3"
      },
      "outputs": [],
      "source": [
        "# 1: Importing Required Libraries\n",
        "\n",
        "import numpy as np\n",
        "import networkx as nx\n",
        "import matplotlib.pyplot as plt\n",
        "import random\n",
        "import networkx as nx\n",
        "import pylab as pl"
      ]
    },
    {
      "cell_type": "code",
      "source": [
        "# 2: Create the maze\n",
        "\n",
        "maze = [\n",
        "    [0, 1, 0, 0, 0, 0, 0, 0, 1, 0, 0, 0, 0],\n",
        "    [0, 1, 1, 1, 0, 1, 1, 1, 1, 0, 1, 1, 0],\n",
        "    [0, 0, 0, 1, 0, 1, 0, 0, 1, 0, 0, 1, 0],\n",
        "    [1, 1, 1, 1, 0, 1, 0, 1, 1, 1, 0, 1, 1],\n",
        "    [0, 0, 0, 0, 0, 1, 0, 0, 0, 0, 0, 0, 0],\n",
        "    [0, 1, 1, 1, 1, 1, 1, 1, 1, 1, 1, 1, 0],\n",
        "    [0, 0, 0, 0, 0, 0, 0, 0, 0, 0, 0, 1, 0],\n",
        "]\n",
        "\n",
        "ROWS = len(maze)\n",
        "COLS = len(maze[0])"
      ],
      "metadata": {
        "id": "aZ7WG1uguVTN"
      },
      "execution_count": null,
      "outputs": []
    },
    {
      "cell_type": "code",
      "source": [
        "# 3: Convert 2D position to state number\n",
        "\n",
        "def pos_to_state(row, col):\n",
        "    return row * COLS + col"
      ],
      "metadata": {
        "id": "f05TxLhyu5nZ"
      },
      "execution_count": null,
      "outputs": []
    },
    {
      "cell_type": "code",
      "source": [
        "# 4: Convert state number to 2D position\n",
        "\n",
        "def state_to_pos(state):\n",
        "    return divmod(state, COLS)"
      ],
      "metadata": {
        "id": "kjzbBA6XvCbS"
      },
      "execution_count": null,
      "outputs": []
    },
    {
      "cell_type": "code",
      "source": [
        "# 5: Get valid neighbors\n",
        "\n",
        "def get_neighbors(r, c):\n",
        "    moves = [(-1,0), (1,0), (0,-1), (0,1)]\n",
        "    neighbors = []\n",
        "    for dr, dc in moves:\n",
        "        nr, nc = r + dr, c + dc\n",
        "        if 0 <= nr < ROWS and 0 <= nc < COLS and maze[nr][nc] == 1:\n",
        "            neighbors.append((nr, nc))\n",
        "    return neighbors"
      ],
      "metadata": {
        "id": "5BpQjrlpvQRC"
      },
      "execution_count": null,
      "outputs": []
    },
    {
      "cell_type": "code",
      "source": [
        "# 6: Create reward matrix\n",
        "\n",
        "N = ROWS * COLS\n",
        "R = np.full((N, N), -1)\n",
        "\n",
        "goal = (6, 11)\n",
        "goal_state = pos_to_state(*goal)\n",
        "\n",
        "for r in range(ROWS):\n",
        "    for c in range(COLS):\n",
        "        if maze[r][c] == 1:\n",
        "            s = pos_to_state(r, c)\n",
        "            for nr, nc in get_neighbors(r, c):\n",
        "                ns = pos_to_state(nr, nc)\n",
        "                if (nr, nc) == goal:\n",
        "                    R[s, ns] = 100\n",
        "                else:\n",
        "                    R[s, ns] = 0"
      ],
      "metadata": {
        "id": "I3E0Z5b1vSa3"
      },
      "execution_count": null,
      "outputs": []
    },
    {
      "cell_type": "code",
      "source": [
        "# 7: Q Matrix\n",
        "\n",
        "Q = np.zeros((N, N))"
      ],
      "metadata": {
        "id": "17HD4myZvTgU"
      },
      "execution_count": null,
      "outputs": []
    },
    {
      "cell_type": "code",
      "source": [
        "# 8: Q-Learning\n",
        "\n",
        "gamma = 0.8\n",
        "epochs = 1000\n",
        "scores = []\n",
        "\n",
        "for _ in range(epochs):\n",
        "    current_pos = (random.randint(0, ROWS-1), random.randint(0, COLS-1))\n",
        "    while maze[current_pos[0]][current_pos[1]] != 1:\n",
        "        current_pos = (random.randint(0, ROWS-1), random.randint(0, COLS-1))\n",
        "\n",
        "    state = pos_to_state(*current_pos)\n",
        "\n",
        "    valid_actions = np.where(R[state] >= 0)[0]\n",
        "    action = np.random.choice(valid_actions)\n",
        "\n",
        "    next_state = action\n",
        "    max_q = np.max(Q[next_state])\n",
        "    Q[state, next_state] = R[state, next_state] + gamma * max_q\n",
        "\n",
        "    scores.append(np.sum(Q / (np.max(Q) if np.max(Q) > 0 else 1) * 100))\n"
      ],
      "metadata": {
        "id": "dAnJga35vWTD"
      },
      "execution_count": null,
      "outputs": []
    },
    {
      "cell_type": "code",
      "source": [
        "# 9: Plot the Learning Progress\n",
        "\n",
        "plt.plot(scores)\n",
        "plt.title(\"Maze Q-Learning Progress\")\n",
        "plt.xlabel(\"Iterations\")\n",
        "plt.ylabel(\"Score\")\n",
        "plt.grid(True)\n",
        "plt.show()"
      ],
      "metadata": {
        "colab": {
          "base_uri": "https://localhost:8080/",
          "height": 472
        },
        "id": "mdrysZ4mvYr8",
        "outputId": "d3d7a60f-c3dd-47a6-8e18-0b15a1e1eca4"
      },
      "execution_count": null,
      "outputs": [
        {
          "output_type": "display_data",
          "data": {
            "text/plain": [
              "<Figure size 640x480 with 1 Axes>"
            ],
            "image/png": "[encoded data removed]"
          },
          "metadata": {}
        }
      ]
    },
    {
      "cell_type": "code",
      "source": [
        "# 10: Extract the Optimal Path\n",
        "\n",
        "def get_optimal_path(start):\n",
        "    path = []\n",
        "    current_state = pos_to_state(*start)\n",
        "    path.append(start)\n",
        "\n",
        "    while current_state != goal_state:\n",
        "        next_states = np.where(Q[current_state] == np.max(Q[current_state]))[0]\n",
        "        if len(next_states) > 1:\n",
        "            next_state = np.random.choice(next_states)\n",
        "        else:\n",
        "            next_state = next_states[0]\n",
        "\n",
        "        next_pos = state_to_pos(next_state)\n",
        "        path.append(next_pos)\n",
        "        current_state = next_state\n",
        "\n",
        "        if len(path) > 100:\n",
        "            break  # Prevent infinite loop\n",
        "\n",
        "    return path"
      ],
      "metadata": {
        "id": "7zo_U39BvbGO"
      },
      "execution_count": null,
      "outputs": []
    },
    {
      "cell_type": "code",
      "source": [
        "# 11: Test the Agent\n",
        "\n",
        "start = (0, 1)\n",
        "optimal_path = get_optimal_path(start)\n",
        "print(\"Optimal path from start to goal:\")\n",
        "print(optimal_path)"
      ],
      "metadata": {
        "colab": {
          "base_uri": "https://localhost:8080/"
        },
        "id": "Eb_m7fiVvfv4",
        "outputId": "ff2b0ed7-f9f6-4b6b-f7d2-158da777ea32"
      },
      "execution_count": null,
      "outputs": [
        {
          "output_type": "stream",
          "name": "stdout",
          "text": [
            "Optimal path from start to goal:\n",
            "[(0, 1), (np.int64(0), np.int64(2)), (np.int64(1), np.int64(7)), (np.int64(4), np.int64(0)), (np.int64(6), np.int64(10)), (np.int64(3), np.int64(1)), (np.int64(2), np.int64(1)), (np.int64(1), np.int64(7)), (np.int64(3), np.int64(2)), (np.int64(5), np.int64(6)), (np.int64(5), np.int64(7)), (np.int64(5), np.int64(8)), (np.int64(5), np.int64(9)), (np.int64(5), np.int64(10)), (np.int64(5), np.int64(11)), (np.int64(6), np.int64(11))]\n"
          ]
        }
      ]
    }
  ]
}