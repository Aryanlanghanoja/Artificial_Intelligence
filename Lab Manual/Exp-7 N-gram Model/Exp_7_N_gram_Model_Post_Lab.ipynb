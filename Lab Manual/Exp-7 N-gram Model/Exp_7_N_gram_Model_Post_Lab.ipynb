{
  "nbformat": 4,
  "nbformat_minor": 0,
  "metadata": {
    "colab": {
      "provenance": []
    },
    "kernelspec": {
      "name": "python3",
      "display_name": "Python 3"
    },
    "language_info": {
      "name": "python"
    }
  },
  "cells": [
    {
      "cell_type": "code",
      "source": [
        "# 1. Importing the Necessary Modules\n",
        "\n",
        "import numpy as np\n",
        "import nltk\n",
        "from collections import Counter, defaultdict\n",
        "from nltk.corpus import stopwords as nltk_stopwords\n",
        "from nltk.tokenize import word_tokenize\n",
        "from nltk.stem import WordNetLemmatizer"
      ],
      "metadata": {
        "id": "VqM_sk9FSjyj"
      },
      "execution_count": 4,
      "outputs": []
    },
    {
      "cell_type": "code",
      "source": [
        "# 2. Download resources\n",
        "\n",
        "nltk.download('punkt')\n",
        "nltk.download('stopwords')\n",
        "nltk.download('wordnet')\n",
        "nltk.download('punkt_tab')"
      ],
      "metadata": {
        "colab": {
          "base_uri": "https://localhost:8080/"
        },
        "id": "Z6mwljtlSoi_",
        "outputId": "81ac3947-ab21-442a-9b2c-2b90fceb8150"
      },
      "execution_count": 5,
      "outputs": [
        {
          "output_type": "stream",
          "name": "stderr",
          "text": [
            "[nltk_data] Downloading package punkt to /root/nltk_data...\n",
            "[nltk_data]   Package punkt is already up-to-date!\n",
            "[nltk_data] Downloading package stopwords to /root/nltk_data...\n",
            "[nltk_data]   Package stopwords is already up-to-date!\n",
            "[nltk_data] Downloading package wordnet to /root/nltk_data...\n",
            "[nltk_data]   Package wordnet is already up-to-date!\n",
            "[nltk_data] Downloading package punkt_tab to /root/nltk_data...\n",
            "[nltk_data]   Package punkt_tab is already up-to-date!\n"
          ]
        },
        {
          "output_type": "execute_result",
          "data": {
            "text/plain": [
              "True"
            ]
          },
          "metadata": {},
          "execution_count": 5
        }
      ]
    },
    {
      "cell_type": "code",
      "source": [
        "# 3. Sample Document\n",
        "\n",
        "text = \"\"\"\n",
        "I am learning natural language processing\n",
        "Natural language processing is the important module of subject artificial intelligence\n",
        "This domain has seen many recent advancements in terms of its execution\n",
        "\"\"\""
      ],
      "metadata": {
        "id": "N_4N3TiYSt06"
      },
      "execution_count": 6,
      "outputs": []
    },
    {
      "cell_type": "code",
      "source": [
        "# 4. Tokenization\n",
        "\n",
        "tokens = word_tokenize(text.lower())\n",
        "stop_words = set(nltk_stopwords.words('english'))\n",
        "lemmatizer = WordNetLemmatizer()"
      ],
      "metadata": {
        "id": "mva38EPhSxyq"
      },
      "execution_count": 7,
      "outputs": []
    },
    {
      "cell_type": "code",
      "source": [
        "# 5. Preprocessing\n",
        "\n",
        "filtered_tokens = [lemmatizer.lemmatize(word) for word in tokens if word.isalnum() and word not in stop_words]"
      ],
      "metadata": {
        "id": "Ys1Uugm7S1wP"
      },
      "execution_count": 8,
      "outputs": []
    },
    {
      "cell_type": "code",
      "source": [
        "# 6. Generate bigrams\n",
        "\n",
        "def generate_n_grams(tokens, n):\n",
        "    return [tuple(tokens[i:i + n]) for i in range(len(tokens) - n + 1)]\n",
        "\n",
        "bigrams = generate_n_grams(filtered_tokens, 2)"
      ],
      "metadata": {
        "id": "BOwrPKn_S6Qb"
      },
      "execution_count": 9,
      "outputs": []
    },
    {
      "cell_type": "code",
      "source": [
        "# 7. Train model (bigram)\n",
        "\n",
        "def train_grams(n_grams):\n",
        "    model = defaultdict(Counter)\n",
        "    for ngram in n_grams:\n",
        "        prefix = ngram[:-1]\n",
        "        next_word = ngram[-1]\n",
        "        model[prefix][next_word] += 1\n",
        "    return model\n",
        "\n",
        "model = train_grams(bigrams)"
      ],
      "metadata": {
        "id": "P7AIvvi4TEXn"
      },
      "execution_count": 10,
      "outputs": []
    },
    {
      "cell_type": "code",
      "source": [
        "# 8. Predict with probabilities\n",
        "\n",
        "def predict_next_word(model, prefix_words):\n",
        "    prefix = tuple(prefix_words.split())\n",
        "    if prefix in model:\n",
        "        total = sum(model[prefix].values())\n",
        "        return [(word, round(count / total, 3)) for word, count in model[prefix].items()]\n",
        "    else:\n",
        "        return \"No Prediction\""
      ],
      "metadata": {
        "id": "08KPDOabTLOw"
      },
      "execution_count": 11,
      "outputs": []
    },
    {
      "cell_type": "code",
      "source": [
        "# 9. Predictions for various seed phrases\n",
        "\n",
        "seeds = [\"natural\", \"language\", \"artificial\", \"processing\", \"subject\"]\n",
        "print(\"\\nPredictions:\")\n",
        "print(f\"{'Seed Phrase':<15}{'Predicted Word':<20}{'Probability'}\")\n",
        "print(\"-\" * 50)\n",
        "\n",
        "for seed in seeds:\n",
        "    prediction = predict_next_word(model, seed)\n",
        "    if prediction != \"No Prediction\":\n",
        "        for word, prob in prediction:\n",
        "            print(f\"{seed:<15}{word:<20}{prob}\")\n",
        "    else:\n",
        "        print(f\"{seed:<15}{'No Prediction':<20}{'-'}\")"
      ],
      "metadata": {
        "colab": {
          "base_uri": "https://localhost:8080/"
        },
        "id": "an8o5Hc-TNpY",
        "outputId": "ed41587d-3029-49bb-bbcb-1ae5525064f6"
      },
      "execution_count": 12,
      "outputs": [
        {
          "output_type": "stream",
          "name": "stdout",
          "text": [
            "\n",
            "Predictions:\n",
            "Seed Phrase    Predicted Word      Probability\n",
            "--------------------------------------------------\n",
            "natural        language            1.0\n",
            "language       processing          1.0\n",
            "artificial     intelligence        1.0\n",
            "processing     natural             0.5\n",
            "processing     important           0.5\n",
            "subject        artificial          1.0\n"
          ]
        }
      ]
    }
  ]
}