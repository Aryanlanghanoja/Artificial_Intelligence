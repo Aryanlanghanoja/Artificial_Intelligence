{
  "nbformat": 4,
  "nbformat_minor": 0,
  "metadata": {
    "colab": {
      "provenance": []
    },
    "kernelspec": {
      "name": "python3",
      "display_name": "Python 3"
    },
    "language_info": {
      "name": "python"
    }
  },
  "cells": [
    {
      "cell_type": "code",
      "execution_count": 15,
      "metadata": {
        "colab": {
          "base_uri": "https://localhost:8080/"
        },
        "id": "CmjrwXYcpZjg",
        "outputId": "1bc89984-504b-4b86-9289-88f6d628cc28"
      },
      "outputs": [
        {
          "output_type": "stream",
          "name": "stderr",
          "text": [
            "[nltk_data] Downloading package punkt to /root/nltk_data...\n",
            "[nltk_data]   Package punkt is already up-to-date!\n",
            "[nltk_data] Downloading package stopwords to /root/nltk_data...\n",
            "[nltk_data]   Package stopwords is already up-to-date!\n",
            "[nltk_data] Downloading package wordnet to /root/nltk_data...\n",
            "[nltk_data]   Package wordnet is already up-to-date!\n",
            "[nltk_data] Downloading package punkt_tab to /root/nltk_data...\n",
            "[nltk_data]   Package punkt_tab is already up-to-date!\n"
          ]
        },
        {
          "output_type": "execute_result",
          "data": {
            "text/plain": [
              "True"
            ]
          },
          "metadata": {},
          "execution_count": 15
        }
      ],
      "source": [
        "# 1. Load Necessary Modules\n",
        "\n",
        "import numpy as np\n",
        "import nltk\n",
        "import networkx as nx\n",
        "from collections import Counter, defaultdict\n",
        "from itertools import combinations\n",
        "from nltk.corpus import stopwords as nltk_stopwords\n",
        "from nltk.tokenize import word_tokenize\n",
        "from nltk.stem import WordNetLemmatizer\n",
        "import matplotlib.pyplot as plt\n",
        "import math\n",
        "\n",
        "# Download necessary NLTK resources\n",
        "nltk.download('punkt')\n",
        "nltk.download('stopwords')\n",
        "nltk.download('wordnet')\n",
        "nltk.download('punkt_tab')"
      ]
    },
    {
      "cell_type": "code",
      "source": [
        "# 2. Initialize the Document\n",
        "\n",
        "text = \"\"\"\n",
        "I am learning natural language processing\n",
        "Natural language processing is the important module of subject artificial intelligence\n",
        "This domain has seen many recent advancements in terms of its execution\n",
        "\"\"\""
      ],
      "metadata": {
        "id": "-a2QoSLXqEtW"
      },
      "execution_count": 16,
      "outputs": []
    },
    {
      "cell_type": "code",
      "source": [
        "# 3. Tokenize the Document\n",
        "\n",
        "tokens = word_tokenize(text.lower())\n",
        "\n",
        "print(\"Tokens :- \")\n",
        "\n",
        "for token in tokens :\n",
        "  print(token)"
      ],
      "metadata": {
        "colab": {
          "base_uri": "https://localhost:8080/"
        },
        "id": "wSvYK8wkqKd9",
        "outputId": "308db250-6656-49cb-8549-52ff48b19101"
      },
      "execution_count": 17,
      "outputs": [
        {
          "output_type": "stream",
          "name": "stdout",
          "text": [
            "Tokens :- \n",
            "i\n",
            "am\n",
            "learning\n",
            "natural\n",
            "language\n",
            "processing\n",
            "natural\n",
            "language\n",
            "processing\n",
            "is\n",
            "the\n",
            "important\n",
            "module\n",
            "of\n",
            "subject\n",
            "artificial\n",
            "intelligence\n",
            "this\n",
            "domain\n",
            "has\n",
            "seen\n",
            "many\n",
            "recent\n",
            "advancements\n",
            "in\n",
            "terms\n",
            "of\n",
            "its\n",
            "execution\n"
          ]
        }
      ]
    },
    {
      "cell_type": "code",
      "source": [
        "# 4.  Preprocessing (Stopword Removal and Lemmatization)\n",
        "\n",
        "stop_words = set(nltk_stopwords.words('english'))\n",
        "lemmatizer = WordNetLemmatizer()\n",
        "\n",
        "# Remove stopwords and lemmatize tokens\n",
        "filtered_tokens = [lemmatizer.lemmatize(word) for word in tokens if word.isalnum() and word not in stop_words]\n",
        "print(\"Filtered Tokens:\", filtered_tokens)"
      ],
      "metadata": {
        "colab": {
          "base_uri": "https://localhost:8080/"
        },
        "id": "YXk810IjqvSm",
        "outputId": "0250b1f2-8eb7-43e5-abfd-47cd02a7e587"
      },
      "execution_count": 18,
      "outputs": [
        {
          "output_type": "stream",
          "name": "stdout",
          "text": [
            "Filtered Tokens: ['learning', 'natural', 'language', 'processing', 'natural', 'language', 'processing', 'important', 'module', 'subject', 'artificial', 'intelligence', 'domain', 'seen', 'many', 'recent', 'advancement', 'term', 'execution']\n"
          ]
        }
      ]
    },
    {
      "cell_type": "code",
      "source": [
        "# 5. Generate N-Grams\n",
        "\n",
        "def generate_n_grams(tokens, n):\n",
        "    \"\"\"Generates N-grams from tokenized words.\"\"\"\n",
        "    n_grams = [tuple(tokens[i:i + n]) for i in range(len(tokens) - n + 1)]\n",
        "    return n_grams\n",
        "\n",
        "# Generate bigrams\n",
        "n = 2\n",
        "n_grams = generate_n_grams(filtered_tokens, n)\n",
        "print(f\"{n}-grams:\", n_grams)"
      ],
      "metadata": {
        "colab": {
          "base_uri": "https://localhost:8080/"
        },
        "id": "ZuSLhWk5q9ZO",
        "outputId": "f63fbca2-b62b-4d14-9fa9-d5571d3a51f2"
      },
      "execution_count": 19,
      "outputs": [
        {
          "output_type": "stream",
          "name": "stdout",
          "text": [
            "2-grams: [('learning', 'natural'), ('natural', 'language'), ('language', 'processing'), ('processing', 'natural'), ('natural', 'language'), ('language', 'processing'), ('processing', 'important'), ('important', 'module'), ('module', 'subject'), ('subject', 'artificial'), ('artificial', 'intelligence'), ('intelligence', 'domain'), ('domain', 'seen'), ('seen', 'many'), ('many', 'recent'), ('recent', 'advancement'), ('advancement', 'term'), ('term', 'execution')]\n"
          ]
        }
      ]
    },
    {
      "cell_type": "code",
      "source": [
        "# 6. Train the N-Gram Model\n",
        "\n",
        "def train_grams(n_grams):\n",
        "    \"\"\"Trains the N-gram model by counting occurrences.\"\"\"\n",
        "    model = defaultdict(Counter)\n",
        "\n",
        "    for ngram in n_grams:\n",
        "        prefix = ngram[:-1]\n",
        "        next_gram = ngram[-1]\n",
        "        model[prefix][next_gram] += 1\n",
        "\n",
        "    return model\n",
        "\n",
        "# Train the model\n",
        "model = train_grams(n_grams)"
      ],
      "metadata": {
        "id": "ihoiwSP_rCsT"
      },
      "execution_count": 20,
      "outputs": []
    },
    {
      "cell_type": "code",
      "source": [
        "# 7. Predict the Next Word\n",
        "\n",
        "def predict_next_word(model, prefix_words):\n",
        "    \"\"\"Predicts the next word given the prefix.\"\"\"\n",
        "    if isinstance(prefix_words, str):\n",
        "        prefix_words = prefix_words.split(\" \")\n",
        "\n",
        "    prefix = tuple(prefix_words)\n",
        "\n",
        "    if prefix in model:\n",
        "        return model[prefix].most_common(1)\n",
        "    else:\n",
        "        return \"No Prediction\""
      ],
      "metadata": {
        "id": "SFYmne-JrHjh"
      },
      "execution_count": 21,
      "outputs": []
    },
    {
      "cell_type": "code",
      "source": [
        "print(\"Prediction:\", predict_next_word(model, (\"natural\",)))\n",
        "print(\"Prediction:\", predict_next_word(model, (\"language\",)))\n",
        "print(\"Prediction:\", predict_next_word(model, (\"artificial\",)))"
      ],
      "metadata": {
        "colab": {
          "base_uri": "https://localhost:8080/"
        },
        "id": "4p7AicXBrcFG",
        "outputId": "2558ec84-6cb6-45ac-97ad-f528d3a0ee4e"
      },
      "execution_count": 22,
      "outputs": [
        {
          "output_type": "stream",
          "name": "stdout",
          "text": [
            "Prediction: [('language', 2)]\n",
            "Prediction: [('processing', 2)]\n",
            "Prediction: [('intelligence', 1)]\n"
          ]
        }
      ]
    }
  ]
}