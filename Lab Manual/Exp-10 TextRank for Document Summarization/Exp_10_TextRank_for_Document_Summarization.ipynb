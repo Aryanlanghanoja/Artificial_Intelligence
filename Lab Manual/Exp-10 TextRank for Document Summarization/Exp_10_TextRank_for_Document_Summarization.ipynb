{
  "nbformat": 4,
  "nbformat_minor": 0,
  "metadata": {
    "colab": {
      "provenance": []
    },
    "kernelspec": {
      "name": "python3",
      "display_name": "Python 3"
    },
    "language_info": {
      "name": "python"
    }
  },
  "cells": [
    {
      "cell_type": "code",
      "source": [
        "# 1. Importing the Necessar Modules\n",
        "\n",
        "import nltk\n",
        "import spacy\n",
        "import numpy as np\n",
        "import networkx as nx\n",
        "from sklearn.metrics import jaccard_score\n",
        "from sklearn.feature_extraction.text import CountVectorizer\n",
        "from sklearn.preprocessing import MultiLabelBinarizer"
      ],
      "metadata": {
        "id": "3FThQE0kxl-b"
      },
      "execution_count": 2,
      "outputs": []
    },
    {
      "cell_type": "code",
      "execution_count": 16,
      "metadata": {
        "colab": {
          "base_uri": "https://localhost:8080/"
        },
        "id": "l6O20gryxRac",
        "outputId": "50bce8d8-595d-4115-e8e6-71d975f6404d"
      },
      "outputs": [
        {
          "output_type": "stream",
          "name": "stderr",
          "text": [
            "[nltk_data] Downloading package punkt to /root/nltk_data...\n",
            "[nltk_data]   Package punkt is already up-to-date!\n",
            "[nltk_data] Downloading package stopwords to /root/nltk_data...\n",
            "[nltk_data]   Package stopwords is already up-to-date!\n",
            "[nltk_data] Downloading package punkt_tab to /root/nltk_data...\n",
            "[nltk_data]   Package punkt_tab is already up-to-date!\n"
          ]
        }
      ],
      "source": [
        "# 2. Downloading the Necessary Libraries and Modules\n",
        "\n",
        "nltk.download('punkt')\n",
        "nltk.download('stopwords')\n",
        "nltk.download('punkt_tab')\n",
        "\n",
        "from nltk.tokenize import sent_tokenize, word_tokenize\n",
        "from nltk.corpus import stopwords"
      ]
    },
    {
      "cell_type": "code",
      "source": [
        "# 3. Load spaCy model for vectorization\n",
        "\n",
        "nlp = spacy.load(\"en_core_web_sm\")"
      ],
      "metadata": {
        "id": "z_31rjWWxzCj"
      },
      "execution_count": 5,
      "outputs": []
    },
    {
      "cell_type": "code",
      "source": [
        "# 4. Tokenize documents into sentences\n",
        "\n",
        "def tokenize_sentences(text):\n",
        "    return sent_tokenize(text)"
      ],
      "metadata": {
        "id": "doS_R7pExh0-"
      },
      "execution_count": 6,
      "outputs": []
    },
    {
      "cell_type": "code",
      "source": [
        "# 5. Preprocess each sentence\n",
        "\n",
        "def preprocess_sentence(sentence):\n",
        "    stop_words = set(stopwords.words('english'))\n",
        "    words = word_tokenize(sentence.lower())\n",
        "    return [word for word in words if word.isalnum() and word not in stop_words]"
      ],
      "metadata": {
        "id": "91WbYyeayEkB"
      },
      "execution_count": 7,
      "outputs": []
    },
    {
      "cell_type": "code",
      "source": [
        "# 6. Extract key phrases using CountVectorizer\n",
        "\n",
        "def extract_key_phrases(sentences):\n",
        "    preprocessed_sentences = [' '.join(preprocess_sentence(s)) for s in sentences]\n",
        "    vectorizer = CountVectorizer().fit(preprocessed_sentences)\n",
        "    key_phrases = vectorizer.get_feature_names_out()\n",
        "    return key_phrases"
      ],
      "metadata": {
        "id": "9p6p30y_yJHf"
      },
      "execution_count": 8,
      "outputs": []
    },
    {
      "cell_type": "code",
      "source": [
        "# 7. Jaccard Similarity Matrix between sentences and key phrases\n",
        "\n",
        "def build_similarity_matrix(sentences, key_phrases):\n",
        "    binarizer = MultiLabelBinarizer(classes=key_phrases)\n",
        "    sentence_sets = [set(preprocess_sentence(s)) for s in sentences]\n",
        "    binary_matrix = binarizer.fit_transform(sentence_sets)\n",
        "\n",
        "    n = len(sentences)\n",
        "    similarity_matrix = np.zeros((n, n))\n",
        "\n",
        "    for i in range(n):\n",
        "        for j in range(n):\n",
        "            if i != j:\n",
        "                similarity_matrix[i][j] = jaccard_score(binary_matrix[i], binary_matrix[j])\n",
        "\n",
        "    return similarity_matrix"
      ],
      "metadata": {
        "id": "ss-pkr3XyRXL"
      },
      "execution_count": 11,
      "outputs": []
    },
    {
      "cell_type": "code",
      "source": [
        "# 8. Rank Sentences\n",
        "\n",
        "def rank_sentences(similarity_matrix):\n",
        "    graph = nx.from_numpy_array(similarity_matrix)\n",
        "    scores = nx.pagerank(graph)\n",
        "    return scores"
      ],
      "metadata": {
        "id": "J5577VQSyXh0"
      },
      "execution_count": 12,
      "outputs": []
    },
    {
      "cell_type": "code",
      "source": [
        "# 9. Get summary\n",
        "\n",
        "def textrank_summarize(text, summary_ratio=0.3):\n",
        "    sentences = tokenize_sentences(text)\n",
        "    key_phrases = extract_key_phrases(sentences)\n",
        "    similarity_matrix = build_similarity_matrix(sentences, key_phrases)\n",
        "    scores = rank_sentences(similarity_matrix)\n",
        "\n",
        "    ranked_sentences = sorted(((scores[i], s) for i, s in enumerate(sentences)), reverse=True)\n",
        "\n",
        "    top_n = int(len(sentences) * summary_ratio)\n",
        "    summary = ' '.join([sent for _, sent in ranked_sentences[:top_n]])\n",
        "\n",
        "    return summary"
      ],
      "metadata": {
        "id": "Jic7zW-hyb_D"
      },
      "execution_count": 13,
      "outputs": []
    },
    {
      "cell_type": "code",
      "source": [
        "# 10. Implementing  the Model\n",
        "\n",
        "text = \"\"\"\n",
        "Natural Language Processing (NLP) is a sub-field of artificial intelligence.\n",
        "It involves understanding and generating human language.\n",
        "One of the most interesting tasks in NLP is text summarization.\n",
        "There are two main approaches to summarization: extractive and abstractive.\n",
        "TextRank is an extractive summarization algorithm.\n",
        "It is inspired by the PageRank algorithm used by Google.\n",
        "TextRank builds a graph of sentences based on similarity.\n",
        "Then, it ranks the sentences to pick the most important ones for the summary.\n",
        "\"\"\"\n",
        "print(\"Summary of the document :- \")\n",
        "print(textrank_summarize(text))"
      ],
      "metadata": {
        "colab": {
          "base_uri": "https://localhost:8080/"
        },
        "id": "WsiEk2ZAyoGD",
        "outputId": "2881d015-5693-43e8-965f-d579c0b657b7"
      },
      "execution_count": 17,
      "outputs": [
        {
          "output_type": "stream",
          "name": "stdout",
          "text": [
            "Summary of the document :- \n",
            "TextRank is an extractive summarization algorithm. There are two main approaches to summarization: extractive and abstractive.\n"
          ]
        }
      ]
    }
  ]
}