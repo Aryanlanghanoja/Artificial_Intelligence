{
  "nbformat": 4,
  "nbformat_minor": 0,
  "metadata": {
    "colab": {
      "provenance": []
    },
    "kernelspec": {
      "name": "python3",
      "display_name": "Python 3"
    },
    "language_info": {
      "name": "python"
    }
  },
  "cells": [
    {
      "cell_type": "code",
      "source": [
        "# 1. Importing the Necessar Modules\n",
        "\n",
        "import nltk\n",
        "import spacy\n",
        "import numpy as np\n",
        "import networkx as nx\n",
        "from sklearn.metrics import jaccard_score\n",
        "from sklearn.feature_extraction.text import CountVectorizer\n",
        "from sklearn.preprocessing import MultiLabelBinarizer\n",
        "import warnings\n",
        "\n",
        "warnings.filterwarnings(\"ignore\")"
      ],
      "metadata": {
        "id": "3FThQE0kxl-b"
      },
      "execution_count": 18,
      "outputs": []
    },
    {
      "cell_type": "code",
      "execution_count": 3,
      "metadata": {
        "colab": {
          "base_uri": "https://localhost:8080/"
        },
        "id": "l6O20gryxRac",
        "outputId": "be67cc99-7e90-4773-a805-32e78951dbdc"
      },
      "outputs": [
        {
          "output_type": "stream",
          "name": "stderr",
          "text": [
            "[nltk_data] Downloading package punkt to /root/nltk_data...\n",
            "[nltk_data]   Unzipping tokenizers/punkt.zip.\n",
            "[nltk_data] Downloading package stopwords to /root/nltk_data...\n",
            "[nltk_data]   Unzipping corpora/stopwords.zip.\n",
            "[nltk_data] Downloading package punkt_tab to /root/nltk_data...\n",
            "[nltk_data]   Unzipping tokenizers/punkt_tab.zip.\n"
          ]
        }
      ],
      "source": [
        "# 2. Downloading the Necessary Libraries and Modules\n",
        "\n",
        "nltk.download('punkt')\n",
        "nltk.download('stopwords')\n",
        "nltk.download('punkt_tab')\n",
        "\n",
        "from nltk.tokenize import sent_tokenize, word_tokenize\n",
        "from nltk.corpus import stopwords"
      ]
    },
    {
      "cell_type": "code",
      "source": [
        "# 3. Load spaCy model for vectorization\n",
        "\n",
        "nlp = spacy.load(\"en_core_web_sm\")"
      ],
      "metadata": {
        "id": "z_31rjWWxzCj"
      },
      "execution_count": 4,
      "outputs": []
    },
    {
      "cell_type": "code",
      "source": [
        "# 4. Tokenize documents into sentences\n",
        "\n",
        "def tokenize_sentences(text):\n",
        "    return sent_tokenize(text)"
      ],
      "metadata": {
        "id": "doS_R7pExh0-"
      },
      "execution_count": 5,
      "outputs": []
    },
    {
      "cell_type": "code",
      "source": [
        "# 5. Preprocess each sentence\n",
        "\n",
        "def preprocess_sentence(sentence):\n",
        "    stop_words = set(stopwords.words('english'))\n",
        "    words = word_tokenize(sentence.lower())\n",
        "    return [word for word in words if word.isalnum() and word not in stop_words]"
      ],
      "metadata": {
        "id": "91WbYyeayEkB"
      },
      "execution_count": 6,
      "outputs": []
    },
    {
      "cell_type": "code",
      "source": [
        "# 6. Extract key phrases using CountVectorizer\n",
        "\n",
        "def extract_key_phrases(sentences):\n",
        "    preprocessed_sentences = [' '.join(preprocess_sentence(s)) for s in sentences]\n",
        "    vectorizer = CountVectorizer().fit(preprocessed_sentences)\n",
        "    key_phrases = vectorizer.get_feature_names_out()\n",
        "    return key_phrases"
      ],
      "metadata": {
        "id": "9p6p30y_yJHf"
      },
      "execution_count": 7,
      "outputs": []
    },
    {
      "cell_type": "code",
      "source": [
        "# 7. Jaccard Similarity Matrix between sentences and key phrases\n",
        "\n",
        "def build_similarity_matrix(sentences, key_phrases):\n",
        "    binarizer = MultiLabelBinarizer(classes=key_phrases)\n",
        "    sentence_sets = [set(preprocess_sentence(s)) for s in sentences]\n",
        "    binary_matrix = binarizer.fit_transform(sentence_sets)\n",
        "\n",
        "    n = len(sentences)\n",
        "    similarity_matrix = np.zeros((n, n))\n",
        "\n",
        "    for i in range(n):\n",
        "        for j in range(n):\n",
        "            if i != j:\n",
        "                similarity_matrix[i][j] = jaccard_score(binary_matrix[i], binary_matrix[j])\n",
        "\n",
        "    return similarity_matrix"
      ],
      "metadata": {
        "id": "ss-pkr3XyRXL"
      },
      "execution_count": 8,
      "outputs": []
    },
    {
      "cell_type": "code",
      "source": [
        "# 8. Rank Sentences\n",
        "\n",
        "def rank_sentences(similarity_matrix):\n",
        "    graph = nx.from_numpy_array(similarity_matrix)\n",
        "    scores = nx.pagerank(graph)\n",
        "    return scores"
      ],
      "metadata": {
        "id": "J5577VQSyXh0"
      },
      "execution_count": 9,
      "outputs": []
    },
    {
      "cell_type": "code",
      "source": [
        "# 9. Get summary\n",
        "\n",
        "def textrank_summarize(text, summary_ratio=0.3):\n",
        "    sentences = tokenize_sentences(text)\n",
        "    key_phrases = extract_key_phrases(sentences)\n",
        "    similarity_matrix = build_similarity_matrix(sentences, key_phrases)\n",
        "    scores = rank_sentences(similarity_matrix)\n",
        "\n",
        "    ranked_sentences = sorted(((scores[i], s) for i, s in enumerate(sentences)), reverse=True)\n",
        "\n",
        "    top_n = int(len(sentences) * summary_ratio)\n",
        "    summary = ' '.join([sent for _, sent in ranked_sentences[:top_n]])\n",
        "\n",
        "    return summary"
      ],
      "metadata": {
        "id": "Jic7zW-hyb_D"
      },
      "execution_count": 10,
      "outputs": []
    },
    {
      "cell_type": "code",
      "source": [
        "# 10. Creating a Portfolio.\n",
        "\n",
        "portfolio = \"\"\"\n",
        "I am Aryan Langhanoja\n",
        "A Student of Semester 6 In Department of Information and Communication Technology of Faculty of Technology at Marwadi University.\n",
        "I am Serving as a  Deputy Convenor of Competitive Programming Club.\n",
        "I had done many projects in HTML CSS JS PHP Flutter React Node Express MongoDB PostgreSQL etc.\n",
        "I am trying to imporoving my problem solving skills by practicing DSA.\n",
        "\"\"\""
      ],
      "metadata": {
        "id": "WsiEk2ZAyoGD"
      },
      "execution_count": 11,
      "outputs": []
    },
    {
      "cell_type": "code",
      "source": [
        "# 11. Summary of the 50% of the size of my portfolio\n",
        "\n",
        "print(\"Summary of the 50% of the size of my portfolio  :- \")\n",
        "print(textrank_summarize(portfolio , 0.5))"
      ],
      "metadata": {
        "colab": {
          "base_uri": "https://localhost:8080/"
        },
        "id": "Z7pe66EVzsWm",
        "outputId": "24a73763-1219-498b-d59d-ae9a4599d9eb"
      },
      "execution_count": 19,
      "outputs": [
        {
          "output_type": "stream",
          "name": "stdout",
          "text": [
            "Summary of the 50% of the size of my portfolio  :- \n",
            "I had done many projects in HTML CSS JS PHP Flutter React Node Express MongoDB PostgreSQL etc. I am trying to imporoving my problem solving skills by practicing DSA.\n"
          ]
        }
      ]
    },
    {
      "cell_type": "code",
      "source": [
        "# 12. Summary of the 25% of the size of my portfolio\n",
        "\n",
        "print(\"Summary of the 25% of the size of my portfolio  :- \")\n",
        "print(textrank_summarize(portfolio , 0.25))"
      ],
      "metadata": {
        "colab": {
          "base_uri": "https://localhost:8080/"
        },
        "id": "2h2Bty3V0nOx",
        "outputId": "6a8e5708-c41f-41a6-8471-7cf910166bbb"
      },
      "execution_count": 20,
      "outputs": [
        {
          "output_type": "stream",
          "name": "stdout",
          "text": [
            "Summary of the 25% of the size of my portfolio  :- \n",
            "I had done many projects in HTML CSS JS PHP Flutter React Node Express MongoDB PostgreSQL etc.\n"
          ]
        }
      ]
    }
  ]
}