{
  "nbformat": 4,
  "nbformat_minor": 0,
  "metadata": {
    "colab": {
      "provenance": []
    },
    "kernelspec": {
      "name": "python3",
      "display_name": "Python 3"
    },
    "language_info": {
      "name": "python"
    }
  },
  "cells": [
    {
      "cell_type": "code",
      "source": [
        "# 1. Import the Necessary Modules\n",
        "\n",
        "from typing import List, Tuple, Optional"
      ],
      "metadata": {
        "id": "hLQFBOx1DYnn"
      },
      "execution_count": 1,
      "outputs": []
    },
    {
      "cell_type": "code",
      "source": [
        "# 2. Define the Constants\n",
        "\n",
        "# Size constants\n",
        "N = 9\n",
        "digits = set(str(i) for i in range(1, 10))"
      ],
      "metadata": {
        "id": "fySsYC_nDezL"
      },
      "execution_count": 2,
      "outputs": []
    },
    {
      "cell_type": "code",
      "source": [
        "# 3. Helper functions\n",
        "\n",
        "def is_valid(board: List[List[str]], row: int, col: int, num: str) -> bool:\n",
        "    block_row, block_col = 3 * (row // 3), 3 * (col // 3)\n",
        "    for i in range(9):\n",
        "        if board[row][i] == num or board[i][col] == num:\n",
        "            return False\n",
        "    for i in range(3):\n",
        "        for j in range(3):\n",
        "            if board[block_row + i][block_col + j] == num:\n",
        "                return False\n",
        "    return True\n",
        "\n",
        "def find_empty(board: List[List[str]]) -> Optional[Tuple[int, int]]:\n",
        "    for i in range(9):\n",
        "        for j in range(9):\n",
        "            if board[i][j] == '.':\n",
        "                return (i, j)\n",
        "    return None"
      ],
      "metadata": {
        "id": "k1h1iuhnDlzH"
      },
      "execution_count": 3,
      "outputs": []
    },
    {
      "cell_type": "code",
      "source": [
        "# 4. Backtracking CSP Solver\n",
        "\n",
        "def solve_sudoku(board: List[List[str]]) -> bool:\n",
        "    empty = find_empty(board)\n",
        "    if not empty:\n",
        "        return True  # Puzzle solved\n",
        "\n",
        "    row, col = empty\n",
        "    for num in map(str, range(1, 10)):\n",
        "        if is_valid(board, row, col, num):\n",
        "            board[row][col] = num\n",
        "            if solve_sudoku(board):\n",
        "                return True\n",
        "            board[row][col] = '.'  # Backtrack\n",
        "    return False"
      ],
      "metadata": {
        "id": "yfwEfKl3DuAn"
      },
      "execution_count": 4,
      "outputs": []
    },
    {
      "cell_type": "code",
      "source": [
        "# 5. Pretty print function\n",
        "\n",
        "def print_board(board: List[List[str]]):\n",
        "    for i in range(9):\n",
        "        print(\" \".join(board[i]))"
      ],
      "metadata": {
        "id": "F1MXrCgRD0Ck"
      },
      "execution_count": 5,
      "outputs": []
    },
    {
      "cell_type": "code",
      "source": [
        "# 6. Definig The Sudoku\n",
        "\n",
        "# Sample Sudoku puzzle ('.' denotes empty cells)\n",
        "sudoku_board = [\n",
        "    ['5', '3', '.', '.', '7', '.', '.', '.', '.'],\n",
        "    ['6', '.', '.', '1', '9', '5', '.', '.', '.'],\n",
        "    ['.', '9', '8', '.', '.', '.', '.', '6', '.'],\n",
        "    ['8', '.', '.', '.', '6', '.', '.', '.', '3'],\n",
        "    ['4', '.', '.', '8', '.', '3', '.', '.', '1'],\n",
        "    ['7', '.', '.', '.', '2', '.', '.', '.', '6'],\n",
        "    ['.', '6', '.', '.', '.', '.', '2', '8', '.'],\n",
        "    ['.', '.', '.', '4', '1', '9', '.', '.', '5'],\n",
        "    ['.', '.', '.', '.', '8', '.', '.', '7', '9']\n",
        "]\n",
        "\n",
        "print(\"Initial Sudoku Board:\")\n",
        "print_board(sudoku_board)"
      ],
      "metadata": {
        "colab": {
          "base_uri": "https://localhost:8080/",
          "height": 0
        },
        "id": "ipiVft2bD5v7",
        "outputId": "36a7646e-3f30-4911-d787-33cffb2adcb3"
      },
      "execution_count": 6,
      "outputs": [
        {
          "output_type": "stream",
          "name": "stdout",
          "text": [
            "Initial Sudoku Board:\n",
            "5 3 . . 7 . . . .\n",
            "6 . . 1 9 5 . . .\n",
            ". 9 8 . . . . 6 .\n",
            "8 . . . 6 . . . 3\n",
            "4 . . 8 . 3 . . 1\n",
            "7 . . . 2 . . . 6\n",
            ". 6 . . . . 2 8 .\n",
            ". . . 4 1 9 . . 5\n",
            ". . . . 8 . . 7 9\n"
          ]
        }
      ]
    },
    {
      "cell_type": "code",
      "source": [
        "# 7. Solving the Sudoku\n",
        "\n",
        "solve_sudoku(sudoku_board)\n",
        "print(\"\\nSolved Sudoku Board:\")\n",
        "print_board(sudoku_board)"
      ],
      "metadata": {
        "colab": {
          "base_uri": "https://localhost:8080/",
          "height": 0
        },
        "id": "dn9vEOnwECzi",
        "outputId": "4474f32c-145c-4ba4-8ab4-25868ab8c610"
      },
      "execution_count": 7,
      "outputs": [
        {
          "output_type": "stream",
          "name": "stdout",
          "text": [
            "\n",
            "Solved Sudoku Board:\n",
            "5 3 4 6 7 8 9 1 2\n",
            "6 7 2 1 9 5 3 4 8\n",
            "1 9 8 3 4 2 5 6 7\n",
            "8 5 9 7 6 1 4 2 3\n",
            "4 2 6 8 5 3 7 9 1\n",
            "7 1 3 9 2 4 8 5 6\n",
            "9 6 1 5 3 7 2 8 4\n",
            "2 8 7 4 1 9 6 3 5\n",
            "3 4 5 2 8 6 1 7 9\n"
          ]
        }
      ]
    }
  ]
}