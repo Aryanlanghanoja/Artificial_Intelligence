{
  "nbformat": 4,
  "nbformat_minor": 0,
  "metadata": {
    "colab": {
      "provenance": []
    },
    "kernelspec": {
      "name": "python3",
      "display_name": "Python 3"
    },
    "language_info": {
      "name": "python"
    }
  },
  "cells": [
    {
      "cell_type": "code",
      "source": [
        "# 1. Helper functions to check is the postions are safe\n",
        "\n",
        "def is_safe(board, row, col, n):\n",
        "    # Check the left side of the current row\n",
        "    for i in range(col):\n",
        "        if board[row][i] == 1:\n",
        "            return False\n",
        "\n",
        "    # Check upper-left diagonal\n",
        "    i, j = row, col\n",
        "    while i >= 0 and j >= 0:\n",
        "        if board[i][j] == 1:\n",
        "            return False\n",
        "        i -= 1\n",
        "        j -= 1\n",
        "\n",
        "    # Check lower-left diagonal\n",
        "    i, j = row, col\n",
        "    while i < n and j >= 0:\n",
        "        if board[i][j] == 1:\n",
        "            return False\n",
        "        i += 1\n",
        "        j -= 1\n",
        "\n",
        "    return True\n"
      ],
      "metadata": {
        "id": "k1h1iuhnDlzH"
      },
      "execution_count": 1,
      "outputs": []
    },
    {
      "cell_type": "code",
      "source": [
        "# 2. Backtracking function for CSP Solver\n",
        "\n",
        "def solve_n_queens_util(board, col, n, solutions):\n",
        "    if col == n:\n",
        "        solutions.append([\"\".join(\"Q\" if cell else \".\" for cell in row) for row in board])\n",
        "        return\n",
        "\n",
        "    for i in range(n):\n",
        "        if is_safe(board, i, col, n):\n",
        "            board[i][col] = 1\n",
        "            solve_n_queens_util(board, col + 1, n, solutions)\n",
        "            board[i][col] = 0  # Backtrack"
      ],
      "metadata": {
        "id": "yfwEfKl3DuAn"
      },
      "execution_count": 2,
      "outputs": []
    },
    {
      "cell_type": "code",
      "source": [
        "# 3. Main Function to solve the CSP Problem\n",
        "\n",
        "def solve_n_queens(n):\n",
        "    board = [[0 for _ in range(n)] for _ in range(n)]\n",
        "    solutions = []\n",
        "    solve_n_queens_util(board, 0, n, solutions)\n",
        "    return solutions"
      ],
      "metadata": {
        "id": "F1MXrCgRD0Ck"
      },
      "execution_count": 3,
      "outputs": []
    },
    {
      "cell_type": "code",
      "source": [
        "# 4. Function to print the solution\n",
        "\n",
        "def print_solutions(solutions):\n",
        "    print(f\"\\nTotal Solutions: {len(solutions)}\")\n",
        "    for idx, solution in enumerate(solutions, 1):\n",
        "        print(f\"\\nSolution {idx}:\")\n",
        "        for row in solution:\n",
        "            print(row)"
      ],
      "metadata": {
        "id": "ipiVft2bD5v7"
      },
      "execution_count": 4,
      "outputs": []
    },
    {
      "cell_type": "code",
      "source": [
        "# 5. Solving the N - Queen Problem\n",
        "\n",
        "N = int(input(\"Enter the value of N for the N-Queens problem: \"))\n",
        "solutions = solve_n_queens(N)\n",
        "print_solutions(solutions)"
      ],
      "metadata": {
        "colab": {
          "base_uri": "https://localhost:8080/"
        },
        "id": "dn9vEOnwECzi",
        "outputId": "5dad923b-b7b1-424e-9a73-1410b81a91ca"
      },
      "execution_count": 5,
      "outputs": [
        {
          "output_type": "stream",
          "name": "stdout",
          "text": [
            "Enter the value of N for the N-Queens problem: 4\n",
            "\n",
            "Total Solutions: 2\n",
            "\n",
            "Solution 1:\n",
            "..Q.\n",
            "Q...\n",
            "...Q\n",
            ".Q..\n",
            "\n",
            "Solution 2:\n",
            ".Q..\n",
            "...Q\n",
            "Q...\n",
            "..Q.\n"
          ]
        }
      ]
    }
  ]
}