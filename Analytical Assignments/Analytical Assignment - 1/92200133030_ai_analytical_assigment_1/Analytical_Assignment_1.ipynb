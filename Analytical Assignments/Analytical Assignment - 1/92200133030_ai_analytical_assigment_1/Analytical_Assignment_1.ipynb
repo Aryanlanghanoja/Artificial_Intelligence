{
  "cells": [
    {
      "cell_type": "code",
      "execution_count": 18,
      "metadata": {
        "colab": {
          "base_uri": "https://localhost:8080/"
        },
        "id": "1FrEfkex4z1Y",
        "outputId": "aae46e38-9669-4456-f7b4-c138bba1761b"
      },
      "outputs": [
        {
          "output_type": "stream",
          "name": "stderr",
          "text": [
            "[nltk_data] Downloading package stopwords to /root/nltk_data...\n",
            "[nltk_data]   Package stopwords is already up-to-date!\n",
            "[nltk_data] Downloading package punkt to /root/nltk_data...\n",
            "[nltk_data]   Package punkt is already up-to-date!\n",
            "[nltk_data] Downloading package punkt_tab to /root/nltk_data...\n",
            "[nltk_data]   Unzipping tokenizers/punkt_tab.zip.\n"
          ]
        },
        {
          "output_type": "execute_result",
          "data": {
            "text/plain": [
              "True"
            ]
          },
          "metadata": {},
          "execution_count": 18
        }
      ],
      "source": [
        "import os\n",
        "import string\n",
        "import nltk\n",
        "import pandas as pd\n",
        "import networkx as nx\n",
        "from PyPDF2 import PdfReader  # Use PyPDF2 for PDF extraction\n",
        "from nltk.corpus import stopwords\n",
        "import matplotlib.pyplot as plt\n",
        "\n",
        "nltk.download(\"stopwords\")\n",
        "nltk.download(\"punkt\")\n",
        "nltk.download('punkt_tab')"
      ]
    },
    {
      "cell_type": "code",
      "execution_count": 11,
      "metadata": {
        "id": "qyGLwyQR4z1Z"
      },
      "outputs": [],
      "source": [
        "# Specify the folder path containing research papers\n",
        "FOLDER_PATH = \"./ResearchPaper\"  # Replace with your folder path"
      ]
    },
    {
      "cell_type": "code",
      "execution_count": 13,
      "metadata": {
        "id": "X8vvRCUl4z1Z"
      },
      "outputs": [],
      "source": [
        "# Function to extract text from PDF or TXT files\n",
        "def extract_text_from_file(file_path):\n",
        "    if file_path.endswith(\".txt\"):\n",
        "        with open(file_path, \"r\", encoding=\"utf-8\") as f:\n",
        "            return f.read()\n",
        "    elif file_path.endswith(\".pdf\"):\n",
        "        pdf_text = \"\"\n",
        "        with open(file_path, \"rb\") as pdf_file:\n",
        "            reader = PdfReader(pdf_file)\n",
        "            for page in reader.pages:\n",
        "                pdf_text += page.extract_text() or \"\"  # Handle empty pages gracefully\n",
        "        return pdf_text\n",
        "    return \"\""
      ]
    },
    {
      "cell_type": "code",
      "execution_count": 14,
      "metadata": {
        "id": "K8LXE-O24z1a"
      },
      "outputs": [],
      "source": [
        "# Load all papers into a dictionary\n",
        "papers = {}\n",
        "for file_name in os.listdir(FOLDER_PATH):\n",
        "    file_path = os.path.join(FOLDER_PATH, file_name)\n",
        "    if file_name.endswith((\".pdf\")):\n",
        "        papers[file_name] = extract_text_from_file(file_path)"
      ]
    },
    {
      "cell_type": "code",
      "execution_count": 15,
      "metadata": {
        "id": "1AnH-cz_4z1a"
      },
      "outputs": [],
      "source": [
        "# Preprocessing Function\n",
        "def preprocess(text):\n",
        "    text = text.lower()\n",
        "    text = text.translate(str.maketrans(\"\", \"\", string.punctuation))\n",
        "    tokens = nltk.word_tokenize(text)\n",
        "    stop_words = set(stopwords.words(\"english\"))\n",
        "    filtered_tokens = [word for word in tokens if word not in stop_words]\n",
        "    return filtered_tokens"
      ]
    },
    {
      "cell_type": "code",
      "execution_count": 16,
      "metadata": {
        "id": "fWyPg9Te4z1a"
      },
      "outputs": [],
      "source": [
        "# Apply TextRank Algorithm\n",
        "def textrank(text, top_n=5):\n",
        "    words = preprocess(text)\n",
        "    graph = nx.Graph()\n",
        "\n",
        "    for i in range(len(words) - 1):\n",
        "        graph.add_edge(words[i], words[i + 1])\n",
        "\n",
        "    scores = nx.pagerank(graph)\n",
        "    ranked_words = sorted(scores.items(), key=lambda x: x[1], reverse=True)[:top_n]\n",
        "    return [word for word, _ in ranked_words]"
      ]
    },
    {
      "cell_type": "code",
      "execution_count": 27,
      "metadata": {
        "id": "5RhJ3F5K4z1a"
      },
      "outputs": [],
      "source": [
        "# Extract Key Concepts from Each Paper\n",
        "key_concepts = []\n",
        "for paper_name, content in papers.items():\n",
        "    concepts = textrank(content)\n",
        "    for concept in concepts:\n",
        "        # Expanded keyword list for relevance determination\n",
        "        if concept in [\"ai\", \"machine\", \"learning\", \"nlp\", \"ethics\", \"deep\", \"chatbot\", \"artificial\", \"intelligence\", \"neural\", \"networks\", \"algorithm\", \"model\", \"data\", \"computer\", \"vision\", \"robotics\", \"automation\", \"system\"]:\n",
        "            relevance = \"Highly Relevant\"\n",
        "        elif concept in [\"networks\", \"devices\", \"real-time\", \"internet\", \"things\", \"iot\", \"cloud\", \"computing\", \"security\", \"privacy\"]:\n",
        "            relevance = \"Relevant\"\n",
        "        elif concept in [\"technology\", \"innovation\", \"development\", \"research\", \"application\", \"methodology\", \"performance\", \"analysis\"]:\n",
        "            relevance = \"Moderately Relevant\"\n",
        "        else:\n",
        "            relevance = \"Irrelevant\"\n",
        "        key_concepts.append(\n",
        "            {\"Paper\": paper_name, \"Key Concept\": concept, \"Relevance\": relevance}\n",
        "        )"
      ]
    },
    {
      "cell_type": "code",
      "source": [
        "# prompt: add as many more keywords as yu can\n",
        "\n",
        "import os\n",
        "import string\n",
        "import nltk\n",
        "import pandas as pd\n",
        "import networkx as nx\n",
        "from PyPDF2 import PdfReader  # Use PyPDF2 for PDF extraction\n",
        "from nltk.corpus import stopwords\n",
        "import matplotlib.pyplot as plt\n",
        "from collections import Counter  # Import Counter for keyword frequency analysis\n",
        "\n",
        "nltk.download(\"stopwords\")\n",
        "nltk.download(\"punkt\")\n",
        "nltk.download('punkt_tab')\n",
        "nltk.download('averaged_perceptron_tagger') # Download for part-of-speech tagging\n",
        "nltk.download('wordnet') # Download for lemmatization\n",
        "\n",
        "# Specify the folder path containing research papers\n",
        "FOLDER_PATH = \"./ResearchPaper\"  # Replace with your folder path\n",
        "\n",
        "# Function to extract text from PDF or TXT files\n",
        "def extract_text_from_file(file_path):\n",
        "    if file_path.endswith(\".txt\"):\n",
        "        with open(file_path, \"r\", encoding=\"utf-8\") as f:\n",
        "            return f.read()\n",
        "    elif file_path.endswith(\".pdf\"):\n",
        "        pdf_text = \"\"\n",
        "        with open(file_path, \"rb\") as pdf_file:\n",
        "            reader = PdfReader(pdf_file)\n",
        "            for page in reader.pages:\n",
        "                pdf_text += page.extract_text() or \"\"  # Handle empty pages gracefully\n",
        "        return pdf_text\n",
        "    return \"\"\n",
        "\n",
        "# Load all papers into a dictionary\n",
        "papers = {}\n",
        "for file_name in os.listdir(FOLDER_PATH):\n",
        "    file_path = os.path.join(FOLDER_PATH, file_name)\n",
        "    if file_name.endswith((\".pdf\", \".txt\")): # Include .txt files\n",
        "        papers[file_name] = extract_text_from_file(file_path)\n",
        "\n",
        "# Preprocessing Function (enhanced)\n",
        "def preprocess(text):\n",
        "    text = text.lower()\n",
        "    text = text.translate(str.maketrans(\"\", \"\", string.punctuation))\n",
        "    tokens = nltk.word_tokenize(text)\n",
        "    stop_words = set(stopwords.words(\"english\"))\n",
        "    # Add more stopwords\n",
        "    stop_words.update([\"may\", \"also\", \"would\", \"could\", \"should\"])\n",
        "    filtered_tokens = [word for word in tokens if word not in stop_words and word.isalpha()] # Remove non-alphanumeric words\n",
        "\n",
        "\n",
        "    #Lemmatization\n",
        "    wnl = nltk.stem.WordNetLemmatizer()\n",
        "    lemmas = [wnl.lemmatize(t) for t in filtered_tokens]\n",
        "\n",
        "    return lemmas\n",
        "\n",
        "\n",
        "# Apply TextRank Algorithm (with more keywords)\n",
        "def textrank(text, top_n=10):  # Increased top_n\n",
        "    words = preprocess(text)\n",
        "    graph = nx.Graph()\n",
        "\n",
        "    for i in range(len(words) - 1):\n",
        "        graph.add_edge(words[i], words[i + 1])\n",
        "\n",
        "    scores = nx.pagerank(graph)\n",
        "    ranked_words = sorted(scores.items(), key=lambda x: x[1], reverse=True)[:top_n]\n",
        "    return [word for word, _ in ranked_words]\n",
        "\n",
        "# Extract Key Concepts from Each Paper\n",
        "key_concepts = []\n",
        "for paper_name, content in papers.items():\n",
        "    concepts = textrank(content)\n",
        "    for concept in concepts:\n",
        "        # Expanded keyword list for relevance determination\n",
        "        if concept in [\"ai\", \"machine\", \"learning\", \"nlp\", \"ethics\", \"deep\", \"chatbot\", \"artificial\", \"intelligence\", \"neural\", \"networks\", \"algorithm\", \"model\", \"data\", \"computer\", \"vision\", \"robotics\", \"automation\", \"system\"]:\n",
        "            relevance = \"Highly Relevant\"\n",
        "        elif concept in [\"networks\", \"devices\", \"real-time\", \"internet\", \"things\", \"iot\", \"cloud\", \"computing\", \"security\", \"privacy\"]:\n",
        "            relevance = \"Relevant\"\n",
        "        elif concept in [\"technology\", \"innovation\", \"development\", \"research\", \"application\", \"methodology\", \"performance\", \"analysis\"]:\n",
        "            relevance = \"Moderately Relevant\"\n",
        "        else:\n",
        "            relevance = \"Irrelevant\"\n",
        "        key_concepts.append(\n",
        "            {\"Paper\": paper_name, \"Key Concept\": concept, \"Relevance\": relevance}\n",
        "        )\n",
        "\n",
        "# Convert to DataFrame for analysis (optional)\n",
        "df_key_concepts = pd.DataFrame(key_concepts)\n",
        "print(df_key_concepts)\n",
        "\n",
        "# Keyword Frequency Analysis (optional)\n",
        "all_keywords = [item[\"Key Concept\"] for item in key_concepts]\n",
        "keyword_counts = Counter(all_keywords)\n",
        "print(\"\\nKeyword Frequency:\")\n",
        "print(keyword_counts.most_common(10))  # Print top 10 most frequent keywords\n",
        "\n"
      ],
      "metadata": {
        "id": "tvW-n5wu8Lyk"
      },
      "execution_count": null,
      "outputs": []
    },
    {
      "cell_type": "code",
      "execution_count": 28,
      "metadata": {
        "id": "N5WbBsyW4z1a"
      },
      "outputs": [],
      "source": [
        "# Load all papers into a dictionary\n",
        "papers = {}\n",
        "for file_name in os.listdir(FOLDER_PATH):\n",
        "    file_path = os.path.join(FOLDER_PATH, file_name)\n",
        "    if file_name.endswith((\".pdf\")):\n",
        "        papers[file_name] = extract_text_from_file(file_path)"
      ]
    },
    {
      "cell_type": "code",
      "execution_count": 29,
      "metadata": {
        "id": "o8Vlapji4z1b"
      },
      "outputs": [],
      "source": [
        "# Convert results to DataFrame\n",
        "result_df = pd.DataFrame(key_concepts)"
      ]
    },
    {
      "cell_type": "code",
      "execution_count": 30,
      "metadata": {
        "colab": {
          "base_uri": "https://localhost:8080/"
        },
        "id": "ngy1-gX44z1b",
        "outputId": "cb54c6af-52d3-475e-beed-423a8b7effa4"
      },
      "outputs": [
        {
          "output_type": "stream",
          "name": "stdout",
          "text": [
            "                                                Paper  Key Concept  \\\n",
            "0        Artificial Intelligence in Smart Tourism.pdf      tourism   \n",
            "1        Artificial Intelligence in Smart Tourism.pdf        smart   \n",
            "2        Artificial Intelligence in Smart Tourism.pdf         data   \n",
            "3        Artificial Intelligence in Smart Tourism.pdf     business   \n",
            "4        Artificial Intelligence in Smart Tourism.pdf  information   \n",
            "5   A critical review of state-of-the-art chatbot ...     chatbots   \n",
            "6   A critical review of state-of-the-art chatbot ...      chatbot   \n",
            "7   A critical review of state-of-the-art chatbot ...         2019   \n",
            "8   A critical review of state-of-the-art chatbot ...         2018   \n",
            "9   A critical review of state-of-the-art chatbot ...           et   \n",
            "10                             Surgical_Education.pdf           ai   \n",
            "11                             Surgical_Education.pdf     chatbots   \n",
            "12                             Surgical_Education.pdf          use   \n",
            "13                             Surgical_Education.pdf    education   \n",
            "14                             Surgical_Education.pdf         2023   \n",
            "15  A Chatbot for supporting users in Cultural Her...      chatbot   \n",
            "16  A Chatbot for supporting users in Cultural Her...            “   \n",
            "17  A Chatbot for supporting users in Cultural Her...     chatbots   \n",
            "18  A Chatbot for supporting users in Cultural Her...            ”   \n",
            "19  A Chatbot for supporting users in Cultural Her...      context   \n",
            "20           Design and Implementation of ChatGBG.pdf      chatbot   \n",
            "21           Design and Implementation of ChatGBG.pdf            ’   \n",
            "22           Design and Implementation of ChatGBG.pdf            “   \n",
            "23           Design and Implementation of ChatGBG.pdf         data   \n",
            "24           Design and Implementation of ChatGBG.pdf        model   \n",
            "25       Role_of_tourist_chatbot_interaction_on_v.pdf  destination   \n",
            "26       Role_of_tourist_chatbot_interaction_on_v.pdf      tourism   \n",
            "27       Role_of_tourist_chatbot_interaction_on_v.pdf    intention   \n",
            "28       Role_of_tourist_chatbot_interaction_on_v.pdf        image   \n",
            "29       Role_of_tourist_chatbot_interaction_on_v.pdf      chatbot   \n",
            "30       CHATBOT_Architecture_Design_and_Developm.pdf    retrieved   \n",
            "31       CHATBOT_Architecture_Design_and_Developm.pdf            ”   \n",
            "32       CHATBOT_Architecture_Design_and_Developm.pdf            “   \n",
            "33       CHATBOT_Architecture_Design_and_Developm.pdf         used   \n",
            "34       CHATBOT_Architecture_Design_and_Developm.pdf          bot   \n",
            "35  Developing AI chatbots to enhance student lear...     chatbots   \n",
            "36  Developing AI chatbots to enhance student lear...      chatbot   \n",
            "37  Developing AI chatbots to enhance student lear...           ai   \n",
            "38  Developing AI chatbots to enhance student lear...     learning   \n",
            "39  Developing AI chatbots to enhance student lear...        users   \n",
            "40                       Future_OF_AI_IN_Medicine.pdf           ai   \n",
            "41                       Future_OF_AI_IN_Medicine.pdf    potential   \n",
            "42                       Future_OF_AI_IN_Medicine.pdf         data   \n",
            "43                       Future_OF_AI_IN_Medicine.pdf            ’   \n",
            "44                       Future_OF_AI_IN_Medicine.pdf      medical   \n",
            "45            Intelligent_Knowledge-Based_Chatbot.pdf     customer   \n",
            "46            Intelligent_Knowledge-Based_Chatbot.pdf    knowledge   \n",
            "47            Intelligent_Knowledge-Based_Chatbot.pdf      chatbot   \n",
            "48            Intelligent_Knowledge-Based_Chatbot.pdf       system   \n",
            "49            Intelligent_Knowledge-Based_Chatbot.pdf  information   \n",
            "\n",
            "          Relevance  \n",
            "0        Irrelevant  \n",
            "1        Irrelevant  \n",
            "2   Highly Relevant  \n",
            "3        Irrelevant  \n",
            "4        Irrelevant  \n",
            "5        Irrelevant  \n",
            "6   Highly Relevant  \n",
            "7        Irrelevant  \n",
            "8        Irrelevant  \n",
            "9        Irrelevant  \n",
            "10  Highly Relevant  \n",
            "11       Irrelevant  \n",
            "12       Irrelevant  \n",
            "13       Irrelevant  \n",
            "14       Irrelevant  \n",
            "15  Highly Relevant  \n",
            "16       Irrelevant  \n",
            "17       Irrelevant  \n",
            "18       Irrelevant  \n",
            "19       Irrelevant  \n",
            "20  Highly Relevant  \n",
            "21       Irrelevant  \n",
            "22       Irrelevant  \n",
            "23  Highly Relevant  \n",
            "24  Highly Relevant  \n",
            "25       Irrelevant  \n",
            "26       Irrelevant  \n",
            "27       Irrelevant  \n",
            "28       Irrelevant  \n",
            "29  Highly Relevant  \n",
            "30       Irrelevant  \n",
            "31       Irrelevant  \n",
            "32       Irrelevant  \n",
            "33       Irrelevant  \n",
            "34       Irrelevant  \n",
            "35       Irrelevant  \n",
            "36  Highly Relevant  \n",
            "37  Highly Relevant  \n",
            "38  Highly Relevant  \n",
            "39       Irrelevant  \n",
            "40  Highly Relevant  \n",
            "41       Irrelevant  \n",
            "42  Highly Relevant  \n",
            "43       Irrelevant  \n",
            "44       Irrelevant  \n",
            "45       Irrelevant  \n",
            "46       Irrelevant  \n",
            "47  Highly Relevant  \n",
            "48  Highly Relevant  \n",
            "49       Irrelevant  \n"
          ]
        }
      ],
      "source": [
        "# Display results\n",
        "print(result_df)"
      ]
    },
    {
      "cell_type": "code",
      "execution_count": 31,
      "metadata": {
        "colab": {
          "base_uri": "https://localhost:8080/",
          "height": 659
        },
        "id": "8472gBfK4z1b",
        "outputId": "a5189090-4c89-4da1-acb6-c288809d903e"
      },
      "outputs": [
        {
          "output_type": "display_data",
          "data": {
            "text/plain": [
              "<Figure size 1000x600 with 1 Axes>"
            ],
            "image/png": "[encoded data removed]"
          },
          "metadata": {}
        }
      ],
      "source": [
        "# Plot relevance distribution\n",
        "plt.figure(figsize=(10, 6))\n",
        "result_df[\"Relevance\"].value_counts().plot(kind=\"bar\", color=[\"green\", \"orange\", \"red\"])\n",
        "plt.title(\"Relevance Distribution of Key Concepts\")\n",
        "plt.xlabel(\"Relevance Category\")\n",
        "plt.ylabel(\"Count\")\n",
        "plt.show()"
      ]
    },
    {
      "cell_type": "code",
      "execution_count": 26,
      "metadata": {
        "id": "kgUxO2Hz4z1b"
      },
      "outputs": [],
      "source": [
        "# Save results to CSV\n",
        "result_df.to_csv(\"key_concepts_with_relevance.csv\", index=False)"
      ]
    }
  ],
  "metadata": {
    "kernelspec": {
      "display_name": "Python 3",
      "language": "python",
      "name": "python3"
    },
    "language_info": {
      "codemirror_mode": {
        "name": "ipython",
        "version": 3
      },
      "file_extension": ".py",
      "mimetype": "text/x-python",
      "name": "python",
      "nbconvert_exporter": "python",
      "pygments_lexer": "ipython3",
      "version": "3.10.11"
    },
    "colab": {
      "provenance": []
    }
  },
  "nbformat": 4,
  "nbformat_minor": 0
}